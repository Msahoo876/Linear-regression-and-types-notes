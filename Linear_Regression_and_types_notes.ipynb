{
  "nbformat": 4,
  "nbformat_minor": 0,
  "metadata": {
    "colab": {
      "provenance": []
    },
    "kernelspec": {
      "name": "python3",
      "display_name": "Python 3"
    },
    "language_info": {
      "name": "python"
    }
  },
  "cells": [
    {
      "cell_type": "markdown",
      "source": [
        "### What Is Linear Regression?\n",
        "Linear regression is an algorithm that provides a linear relationship between an independent variable and a dependent variable to predict the outcome of future events. It is a statistical method used in data science and machine learning for predictive analysis.\n",
        "\n",
        "The independent variable is also the predictor or explanatory variable that remains unchanged due to the change in other variables. However, the dependent variable changes with fluctuations in the independent variable. The regression model predicts the value of the dependent variable, which is the response or outcome variable being analyzed or studied.\n",
        "\n",
        "Thus, linear regression is a supervised learning algorithm that simulates a mathematical relationship between variables and makes predictions for continuous or numeric variables such as sales, salary, age, product price, etc.\n",
        "\n",
        "This analysis method is advantageous when at least two variables are available in the data, as observed in stock market forecasting, portfolio management, scientific analysis, etc.\n",
        "\n",
        "The general form of a linear regression equation with one independent variable is:<br>\n",
        "### y = mx + b\n",
        "\n",
        "where:<br>\n",
        "\n",
        "\n",
        "*   y is the dependent variable.\n",
        "*   x is the independent variable.\n",
        "\n",
        "*   m is the slope of the line.\n",
        "*   b is the y-intercept.\n",
        "\n",
        "The goal of linear regression is to find the values of m and b that minimize the difference between the predicted values (mx+b) and the actual values of the dependent variable(y).\n",
        "\n",
        "There are different types of linear regression based on the number of independent variables:\n",
        "\n",
        "\n",
        "\n",
        "### 1.   Simple Linear Regression:\n",
        "\n",
        "\n",
        "*   Involves only one independent variable.\n",
        "*   The equation takes the form y=mx+b."
      ],
      "metadata": {
        "id": "XQ6pV-skr7C8"
      }
    },
    {
      "cell_type": "code",
      "execution_count": 1,
      "metadata": {
        "id": "LxQ6iOHdksDV"
      },
      "outputs": [],
      "source": [
        "import numpy as np\n",
        "from sklearn.linear_model import LinearRegression\n",
        "import matplotlib.pyplot as plt"
      ]
    },
    {
      "cell_type": "code",
      "source": [
        "np.random.seed(42)\n",
        "X = 2 * np.random.rand(100, 1)\n",
        "y = 4 + 3 * X + np.random.randn(100, 1)"
      ],
      "metadata": {
        "id": "hpbyWygIlRT5"
      },
      "execution_count": 12,
      "outputs": []
    },
    {
      "cell_type": "code",
      "source": [
        "X"
      ],
      "metadata": {
        "colab": {
          "base_uri": "https://localhost:8080/"
        },
        "id": "JCoXjvMilcP2",
        "outputId": "43dcb748-bb63-47a5-adf3-89b1e8f06c0d"
      },
      "execution_count": 13,
      "outputs": [
        {
          "output_type": "execute_result",
          "data": {
            "text/plain": [
              "array([[0.74908024],\n",
              "       [1.90142861],\n",
              "       [1.46398788],\n",
              "       [1.19731697],\n",
              "       [0.31203728],\n",
              "       [0.31198904],\n",
              "       [0.11616722],\n",
              "       [1.73235229],\n",
              "       [1.20223002],\n",
              "       [1.41614516],\n",
              "       [0.04116899],\n",
              "       [1.9398197 ],\n",
              "       [1.66488528],\n",
              "       [0.42467822],\n",
              "       [0.36364993],\n",
              "       [0.36680902],\n",
              "       [0.60848449],\n",
              "       [1.04951286],\n",
              "       [0.86389004],\n",
              "       [0.58245828],\n",
              "       [1.22370579],\n",
              "       [0.27898772],\n",
              "       [0.5842893 ],\n",
              "       [0.73272369],\n",
              "       [0.91213997],\n",
              "       [1.57035192],\n",
              "       [0.39934756],\n",
              "       [1.02846888],\n",
              "       [1.18482914],\n",
              "       [0.09290083],\n",
              "       [1.2150897 ],\n",
              "       [0.34104825],\n",
              "       [0.13010319],\n",
              "       [1.89777107],\n",
              "       [1.93126407],\n",
              "       [1.6167947 ],\n",
              "       [0.60922754],\n",
              "       [0.19534423],\n",
              "       [1.36846605],\n",
              "       [0.88030499],\n",
              "       [0.24407647],\n",
              "       [0.99035382],\n",
              "       [0.06877704],\n",
              "       [1.8186408 ],\n",
              "       [0.51755996],\n",
              "       [1.32504457],\n",
              "       [0.62342215],\n",
              "       [1.04013604],\n",
              "       [1.09342056],\n",
              "       [0.36970891],\n",
              "       [1.93916926],\n",
              "       [1.55026565],\n",
              "       [1.87899788],\n",
              "       [1.7896547 ],\n",
              "       [1.19579996],\n",
              "       [1.84374847],\n",
              "       [0.176985  ],\n",
              "       [0.39196572],\n",
              "       [0.09045458],\n",
              "       [0.65066066],\n",
              "       [0.77735458],\n",
              "       [0.54269806],\n",
              "       [1.65747502],\n",
              "       [0.71350665],\n",
              "       [0.56186902],\n",
              "       [1.08539217],\n",
              "       [0.28184845],\n",
              "       [1.60439396],\n",
              "       [0.14910129],\n",
              "       [1.97377387],\n",
              "       [1.54448954],\n",
              "       [0.39743136],\n",
              "       [0.01104423],\n",
              "       [1.63092286],\n",
              "       [1.41371469],\n",
              "       [1.45801434],\n",
              "       [1.54254069],\n",
              "       [0.1480893 ],\n",
              "       [0.71693146],\n",
              "       [0.23173812],\n",
              "       [1.72620685],\n",
              "       [1.24659625],\n",
              "       [0.66179605],\n",
              "       [0.1271167 ],\n",
              "       [0.62196464],\n",
              "       [0.65036664],\n",
              "       [1.45921236],\n",
              "       [1.27511494],\n",
              "       [1.77442549],\n",
              "       [0.94442985],\n",
              "       [0.23918849],\n",
              "       [1.42648957],\n",
              "       [1.5215701 ],\n",
              "       [1.1225544 ],\n",
              "       [1.54193436],\n",
              "       [0.98759119],\n",
              "       [1.04546566],\n",
              "       [0.85508204],\n",
              "       [0.05083825],\n",
              "       [0.21578285]])"
            ]
          },
          "metadata": {},
          "execution_count": 13
        }
      ]
    },
    {
      "cell_type": "code",
      "source": [
        "y"
      ],
      "metadata": {
        "colab": {
          "base_uri": "https://localhost:8080/"
        },
        "id": "qq_VVH3OlfO8",
        "outputId": "1fc0ce84-d580-4c0f-d834-28bd2394e33f"
      },
      "execution_count": 14,
      "outputs": [
        {
          "output_type": "execute_result",
          "data": {
            "text/plain": [
              "array([[ 6.33428778],\n",
              "       [ 9.40527849],\n",
              "       [ 8.48372443],\n",
              "       [ 5.60438199],\n",
              "       [ 4.71643995],\n",
              "       [ 5.29307969],\n",
              "       [ 5.82639572],\n",
              "       [ 8.67878666],\n",
              "       [ 6.79819647],\n",
              "       [ 7.74667842],\n",
              "       [ 5.03890908],\n",
              "       [10.14821022],\n",
              "       [ 8.46489564],\n",
              "       [ 5.7873021 ],\n",
              "       [ 5.18802735],\n",
              "       [ 6.06907205],\n",
              "       [ 5.12340036],\n",
              "       [ 6.82087644],\n",
              "       [ 6.19956196],\n",
              "       [ 4.28385989],\n",
              "       [ 7.96723765],\n",
              "       [ 5.09801844],\n",
              "       [ 5.75798135],\n",
              "       [ 5.96358393],\n",
              "       [ 5.32104916],\n",
              "       [ 8.29041045],\n",
              "       [ 4.85532818],\n",
              "       [ 6.28312936],\n",
              "       [ 7.3932017 ],\n",
              "       [ 4.68275333],\n",
              "       [ 9.53145501],\n",
              "       [ 5.19772255],\n",
              "       [ 4.64785995],\n",
              "       [ 9.61886731],\n",
              "       [ 7.87502098],\n",
              "       [ 8.82387021],\n",
              "       [ 5.88791282],\n",
              "       [ 7.0492748 ],\n",
              "       [ 7.91303719],\n",
              "       [ 6.9424623 ],\n",
              "       [ 4.69751764],\n",
              "       [ 5.80238342],\n",
              "       [ 5.34915394],\n",
              "       [10.20785545],\n",
              "       [ 6.34371184],\n",
              "       [ 7.06574625],\n",
              "       [ 7.27306077],\n",
              "       [ 5.71855706],\n",
              "       [ 7.86711877],\n",
              "       [ 7.29958236],\n",
              "       [ 8.82697144],\n",
              "       [ 8.08449921],\n",
              "       [ 9.73664501],\n",
              "       [ 8.86548845],\n",
              "       [ 6.03673644],\n",
              "       [ 9.59980838],\n",
              "       [ 3.4686513 ],\n",
              "       [ 5.64948961],\n",
              "       [ 3.3519395 ],\n",
              "       [ 7.50191639],\n",
              "       [ 5.54881045],\n",
              "       [ 5.30603267],\n",
              "       [ 9.78594227],\n",
              "       [ 4.90965564],\n",
              "       [ 5.91306699],\n",
              "       [ 8.56331925],\n",
              "       [ 3.23806212],\n",
              "       [ 8.99781574],\n",
              "       [ 4.70718666],\n",
              "       [10.70314449],\n",
              "       [ 7.3965179 ],\n",
              "       [ 3.87183748],\n",
              "       [ 4.55507427],\n",
              "       [ 9.18975324],\n",
              "       [ 8.49163691],\n",
              "       [ 8.72049122],\n",
              "       [ 7.94759736],\n",
              "       [ 4.67652161],\n",
              "       [ 6.44386684],\n",
              "       [ 3.98086294],\n",
              "       [11.04439507],\n",
              "       [ 8.21362168],\n",
              "       [ 4.79408465],\n",
              "       [ 5.03790371],\n",
              "       [ 4.89121226],\n",
              "       [ 6.73818454],\n",
              "       [ 9.53623265],\n",
              "       [ 7.00466251],\n",
              "       [10.28665258],\n",
              "       [ 7.24607048],\n",
              "       [ 5.53962564],\n",
              "       [10.17626171],\n",
              "       [ 8.31932218],\n",
              "       [ 6.61392702],\n",
              "       [ 7.73628865],\n",
              "       [ 6.14696329],\n",
              "       [ 7.05929527],\n",
              "       [ 6.90639808],\n",
              "       [ 4.42920556],\n",
              "       [ 5.47453181]])"
            ]
          },
          "metadata": {},
          "execution_count": 14
        }
      ]
    },
    {
      "cell_type": "markdown",
      "source": [
        "### Simple Linear Regression:\n",
        "    y = mx + b\n",
        "    \n",
        "### Calculate:\n",
        "     \n",
        "      Step 1: Creating a Linear Regression Model\n",
        "      Step 2: Fitting the feature(X) and Target(y) value\n",
        "      Step 3:        \n",
        "              m = model_name.coef_[index][index]\n",
        "              b = model_name.intercept_[index]\n",
        "              y = mx+b\n",
        "\n",
        "              then you will get predictive values\n"
      ],
      "metadata": {
        "id": "VVAyOZl0viZH"
      }
    },
    {
      "cell_type": "code",
      "source": [
        "# Creating a linear regression model\n",
        "model = LinearRegression()\n",
        "\n",
        "# Fitting the model to the data\n",
        "model.fit(X, y)\n",
        "\n",
        "# Getting the slope (m) and y-intercept (b)\n",
        "m = model.coef_[0][0]\n",
        "b = model.intercept_[0]\n",
        "\n",
        "# Printing the values of m and b\n",
        "print(f\"Slope (m): {m}\")\n",
        "print(f\"Y-intercept (b): {b}\")\n",
        "\n",
        "# Plotting the data and the regression line\n",
        "plt.scatter(X, y, color='blue')\n",
        "plt.plot(X, m * X + b, color='red')\n",
        "plt.xlabel('X')\n",
        "plt.ylabel('y')\n",
        "plt.title('Linear Regression: Actual vs. Predicted Values')\n",
        "plt.show()"
      ],
      "metadata": {
        "colab": {
          "base_uri": "https://localhost:8080/",
          "height": 509
        },
        "id": "mbNXCrGUljVm",
        "outputId": "35a6ac54-8d96-46c5-c2cc-2d406a75db41"
      },
      "execution_count": 15,
      "outputs": [
        {
          "output_type": "stream",
          "name": "stdout",
          "text": [
            "Slope (m): 2.7701133864384837\n",
            "Y-intercept (b): 4.215096157546747\n"
          ]
        },
        {
          "output_type": "display_data",
          "data": {
            "text/plain": [
              "<Figure size 640x480 with 1 Axes>"
            ],
            "image/png": "[encoded data removed]"
          },
          "metadata": {}
        }
      ]
    },
    {
      "cell_type": "markdown",
      "source": [
        "### Multiple Linear Regression:\n",
        "\n",
        "\n",
        "*   Involves two or more independent variables.\n",
        "*   The equation is an extension of the simple linear regression and takes the\n",
        "    form: y = b0 + b1x1 + b2x2 + b3x3 + ............ +bnXn where b0 is the y-intercept, b1,b2,b3,....,bn are the coefficients, and x1,x2,x3,----,Xn are the independent variables."
      ],
      "metadata": {
        "id": "J2nj00r1yLqS"
      }
    },
    {
      "cell_type": "code",
      "source": [
        "np.random.seed(42)\n",
        "X = 2 * np.random.rand(100, 3)  # Three independent variables\n",
        "y = 4 + 3 * X[:, 0] + 2 * X[:, 1] + 1.5 * X[:, 2] + np.random.randn(100)\n"
      ],
      "metadata": {
        "id": "vc2J3vvmlzp3"
      },
      "execution_count": 16,
      "outputs": []
    },
    {
      "cell_type": "code",
      "source": [
        "X"
      ],
      "metadata": {
        "colab": {
          "base_uri": "https://localhost:8080/"
        },
        "id": "TRJpdZ0kmTa5",
        "outputId": "421f13cc-99fc-4150-a63c-f1e859b37974"
      },
      "execution_count": 17,
      "outputs": [
        {
          "output_type": "execute_result",
          "data": {
            "text/plain": [
              "array([[0.74908024, 1.90142861, 1.46398788],\n",
              "       [1.19731697, 0.31203728, 0.31198904],\n",
              "       [0.11616722, 1.73235229, 1.20223002],\n",
              "       [1.41614516, 0.04116899, 1.9398197 ],\n",
              "       [1.66488528, 0.42467822, 0.36364993],\n",
              "       [0.36680902, 0.60848449, 1.04951286],\n",
              "       [0.86389004, 0.58245828, 1.22370579],\n",
              "       [0.27898772, 0.5842893 , 0.73272369],\n",
              "       [0.91213997, 1.57035192, 0.39934756],\n",
              "       [1.02846888, 1.18482914, 0.09290083],\n",
              "       [1.2150897 , 0.34104825, 0.13010319],\n",
              "       [1.89777107, 1.93126407, 1.6167947 ],\n",
              "       [0.60922754, 0.19534423, 1.36846605],\n",
              "       [0.88030499, 0.24407647, 0.99035382],\n",
              "       [0.06877704, 1.8186408 , 0.51755996],\n",
              "       [1.32504457, 0.62342215, 1.04013604],\n",
              "       [1.09342056, 0.36970891, 1.93916926],\n",
              "       [1.55026565, 1.87899788, 1.7896547 ],\n",
              "       [1.19579996, 1.84374847, 0.176985  ],\n",
              "       [0.39196572, 0.09045458, 0.65066066],\n",
              "       [0.77735458, 0.54269806, 1.65747502],\n",
              "       [0.71350665, 0.56186902, 1.08539217],\n",
              "       [0.28184845, 1.60439396, 0.14910129],\n",
              "       [1.97377387, 1.54448954, 0.39743136],\n",
              "       [0.01104423, 1.63092286, 1.41371469],\n",
              "       [1.45801434, 1.54254069, 0.1480893 ],\n",
              "       [0.71693146, 0.23173812, 1.72620685],\n",
              "       [1.24659625, 0.66179605, 0.1271167 ],\n",
              "       [0.62196464, 0.65036664, 1.45921236],\n",
              "       [1.27511494, 1.77442549, 0.94442985],\n",
              "       [0.23918849, 1.42648957, 1.5215701 ],\n",
              "       [1.1225544 , 1.54193436, 0.98759119],\n",
              "       [1.04546566, 0.85508204, 0.05083825],\n",
              "       [0.21578285, 0.06285837, 1.27282082],\n",
              "       [0.62871196, 1.01714138, 1.81513295],\n",
              "       [0.49858446, 0.82076585, 1.51110228],\n",
              "       [0.45759633, 0.15395982, 0.57950291],\n",
              "       [0.32244257, 1.8593953 , 1.61624076],\n",
              "       [1.26680751, 1.74292118, 1.60734415],\n",
              "       [0.37314012, 1.785118  , 1.07868448],\n",
              "       [1.61488031, 1.7921826 , 0.63600695],\n",
              "       [0.22010385, 0.45587033, 0.85421558],\n",
              "       [1.63602953, 1.72146117, 0.01390426],\n",
              "       [1.02149461, 0.83482201, 0.44421562],\n",
              "       [0.23973073, 0.67523034, 1.88581941],\n",
              "       [0.64640586, 1.03758124, 1.40603792],\n",
              "       [0.7272592 , 1.94356417, 1.92489459],\n",
              "       [0.50356459, 0.99449701, 0.60175662],\n",
              "       [0.56968099, 0.07377389, 1.21912867],\n",
              "       [1.00535805, 0.1029575 , 0.55729293],\n",
              "       [1.81653177, 0.47912378, 0.28978974],\n",
              "       [0.97890552, 1.97130091, 0.48411054],\n",
              "       [1.34427109, 1.52323923, 0.47527509],\n",
              "       [1.4564327 , 0.73556627, 1.26461166],\n",
              "       [1.26705942, 1.07154937, 0.18057954],\n",
              "       [1.67060499, 0.64156013, 0.37303702],\n",
              "       [0.08155028, 1.18178589, 1.35512872],\n",
              "       [0.03317566, 1.02418612, 0.45299155],\n",
              "       [1.29034558, 0.34873286, 1.38187548],\n",
              "       [0.77347069, 1.87345998, 0.27504189],\n",
              "       [0.6821327 , 0.22694704, 1.84938724],\n",
              "       [1.75467871, 0.51588326, 1.31996809],\n",
              "       [1.6344444 , 1.11040162, 1.05930116],\n",
              "       [0.48370458, 0.18620554, 1.79443152],\n",
              "       [1.80083611, 1.26620291, 0.67805958],\n",
              "       [0.69841915, 1.45191136, 1.79422052],\n",
              "       [1.77417285, 1.55975109, 1.28406329],\n",
              "       [0.16827993, 0.32325743, 1.79710838],\n",
              "       [1.21285812, 0.0183941 , 0.20294309],\n",
              "       [1.32700354, 0.01012317, 0.3216161 ],\n",
              "       [1.09746758, 1.3837904 , 1.30392252],\n",
              "       [0.44853862, 1.42435844, 0.47449817],\n",
              "       [0.6507994 , 1.49298281, 1.2992658 ],\n",
              "       [1.69844682, 1.31522578, 1.13661721],\n",
              "       [0.18734954, 0.73543161, 0.53040474],\n",
              "       [0.48797929, 1.94602111, 0.78619545],\n",
              "       [1.78409311, 1.26227725, 1.58962261],\n",
              "       [1.00527419, 1.15380777, 0.98503539],\n",
              "       [0.39048598, 1.44490423, 0.56154472],\n",
              "       [0.04863193, 1.29094459, 0.35422136],\n",
              "       [1.88091717, 1.90785715, 1.82972878],\n",
              "       [0.7403174 , 0.03091323, 1.85663713],\n",
              "       [0.8563683 , 1.93330964, 1.92723995],\n",
              "       [1.70601891, 0.58889778, 0.77019546],\n",
              "       [1.70227334, 0.63384401, 0.33898549],\n",
              "       [1.11360252, 1.87230955, 1.39205959],\n",
              "       [1.14012234, 0.19435299, 1.23001445],\n",
              "       [1.9801077 , 0.28016803, 1.0366593 ],\n",
              "       [1.75474614, 1.48153724, 1.39403148],\n",
              "       [1.40496817, 0.7189823 , 0.58718369],\n",
              "       [1.61872231, 1.62022679, 1.73414464],\n",
              "       [1.82648111, 1.0226848 , 1.00303259],\n",
              "       [1.59659036, 1.29992786, 1.40393375],\n",
              "       [1.59158534, 1.78001068, 0.67599031],\n",
              "       [0.75116591, 0.18796388, 1.15656028],\n",
              "       [0.07188455, 0.93119604, 1.08528927],\n",
              "       [0.5730825 , 1.18166652, 0.0610005 ],\n",
              "       [0.07469638, 1.64520112, 0.72038128],\n",
              "       [0.25412103, 1.04448652, 1.53998711],\n",
              "       [0.43164205, 1.24578095, 0.17069493]])"
            ]
          },
          "metadata": {},
          "execution_count": 17
        }
      ]
    },
    {
      "cell_type": "code",
      "source": [
        "y"
      ],
      "metadata": {
        "colab": {
          "base_uri": "https://localhost:8080/"
        },
        "id": "sVp4A8ZUmU2l",
        "outputId": "1b590e47-ccfd-4c59-e834-96f9a4fdf327"
      },
      "execution_count": 18,
      "outputs": [
        {
          "output_type": "execute_result",
          "data": {
            "text/plain": [
              "array([12.2916516 ,  8.03240868, 11.76049538, 11.87442202,  8.3643446 ,\n",
              "        8.07811964,  8.93035889,  7.95706062,  9.68362436,  9.4796797 ,\n",
              "        9.02750766, 16.84678859,  7.07077374,  8.2800974 ,  8.14500737,\n",
              "       10.12885284, 12.69388762, 15.49825647, 10.27949036,  7.25065927,\n",
              "       12.02582859,  9.92481151,  6.75861524, 13.12221367, 10.6824616 ,\n",
              "       10.97358888,  9.64740032, 10.02868996,  8.42851528, 12.73131522,\n",
              "        6.61163243, 10.90853105,  8.67025028,  5.43451336, 12.27552938,\n",
              "        7.9737971 ,  6.1099185 , 11.24122005, 15.13855442,  8.87182092,\n",
              "       14.54618031,  6.86360862, 11.39035867,  9.86255473,  9.0974417 ,\n",
              "        9.52322008, 13.02604991,  8.01700913,  7.7988011 ,  8.72005921,\n",
              "       12.42854431, 10.36766869, 13.92523775,  9.78526031, 10.06336122,\n",
              "       11.44280797,  8.92190758,  6.20468701, 10.43319342,  9.98689393,\n",
              "        8.68500829, 13.12535687, 13.07010367,  7.8222625 , 13.85160342,\n",
              "       11.99771046, 15.18097779,  8.47664605,  7.15078218,  7.92350006,\n",
              "       12.76316091,  9.51645027, 10.86636091, 13.54804523,  8.10618382,\n",
              "        9.94370186, 14.80836513, 10.59879853,  8.68590227,  8.35789387,\n",
              "       17.02847533,  9.88124399, 14.6320629 , 11.47214933, 11.56493926,\n",
              "       12.8632493 ,  9.97826103, 11.92550506, 14.41535609, 11.12880167,\n",
              "       13.87961678, 15.12174907, 12.48951005, 12.13457424,  9.52237677,\n",
              "        8.49764231,  8.79820112,  9.22340881,  9.14907   ,  7.14527609])"
            ]
          },
          "metadata": {},
          "execution_count": 18
        }
      ]
    },
    {
      "cell_type": "markdown",
      "source": [
        "### Multiple Linear Regression:"
      ],
      "metadata": {
        "id": "pA8k9Q7HzuUv"
      }
    },
    {
      "cell_type": "code",
      "source": [
        "# Create a multiple linear regression model\n",
        "model = LinearRegression()\n",
        "\n",
        "# Fit the model to the data\n",
        "model.fit(X, y)\n",
        "\n",
        "# Get the coefficients and intercept\n",
        "coefficients = model.coef_\n",
        "intercept = model.intercept_\n",
        "\n",
        "# Predict the values using the model\n",
        "y_pred = model.predict(X)\n",
        "\n",
        "# Printing the values of m and b\n",
        "print(f\"Slope (m): {coefficients}\")\n",
        "print(f\"Y-intercept (b): {intercept}\")\n",
        "\n",
        "# Plotting the actual vs. predicted values\n",
        "plt.scatter(y, y_pred)\n",
        "plt.plot([min(y), max(y)], [min(y), max(y)], '--', color='red')  # Diagonal line for reference\n",
        "plt.xlabel('Actual Values')\n",
        "plt.ylabel('Predicted Values')\n",
        "plt.title('Actual vs. Predicted Values in Multiple Linear Regression')\n",
        "plt.show()"
      ],
      "metadata": {
        "colab": {
          "base_uri": "https://localhost:8080/",
          "height": 509
        },
        "id": "Ys7Ui-sMmZxG",
        "outputId": "071f6d46-3d13-4cb7-c3fb-352ca9679f7e"
      },
      "execution_count": 25,
      "outputs": [
        {
          "output_type": "stream",
          "name": "stdout",
          "text": [
            "Slope (m): [[1.93386855]]\n",
            "Y-intercept (b): [1.92258341]\n"
          ]
        },
        {
          "output_type": "display_data",
          "data": {
            "text/plain": [
              "<Figure size 640x480 with 1 Axes>"
            ],
            "image/png": "[encoded data removed]"
          },
          "metadata": {}
        }
      ]
    },
    {
      "cell_type": "markdown",
      "source": [
        "### Polynomial Regression:\n",
        "\n",
        "\n",
        "*   Involves fitting a polynomial equation to the data instead of a straight line.\n",
        "*   The equation can take the form b0 = b0 + b1.X + b2.X^2 + b3.X^3 + ... + bnX^n.\n",
        "\n"
      ],
      "metadata": {
        "id": "SeJMCATr0Wd1"
      }
    },
    {
      "cell_type": "code",
      "source": [
        "from sklearn.preprocessing import PolynomialFeatures"
      ],
      "metadata": {
        "id": "_SWoVcCsmpNG"
      },
      "execution_count": 20,
      "outputs": []
    },
    {
      "cell_type": "code",
      "source": [
        "np.random.seed(0)\n",
        "X = 2 * np.random.rand(100, 1)\n",
        "y = 0.5 * X**2 + X + 2 + np.random.randn(100, 1)"
      ],
      "metadata": {
        "id": "E4g4xgmc0HY0"
      },
      "execution_count": 21,
      "outputs": []
    },
    {
      "cell_type": "code",
      "source": [
        "X"
      ],
      "metadata": {
        "colab": {
          "base_uri": "https://localhost:8080/"
        },
        "id": "FbnQIC-P0KYQ",
        "outputId": "cf1e9e11-cd1e-4158-a0cf-bc3dcff71a36"
      },
      "execution_count": 22,
      "outputs": [
        {
          "output_type": "execute_result",
          "data": {
            "text/plain": [
              "array([[1.09762701],\n",
              "       [1.43037873],\n",
              "       [1.20552675],\n",
              "       [1.08976637],\n",
              "       [0.8473096 ],\n",
              "       [1.29178823],\n",
              "       [0.87517442],\n",
              "       [1.783546  ],\n",
              "       [1.92732552],\n",
              "       [0.76688304],\n",
              "       [1.58345008],\n",
              "       [1.05778984],\n",
              "       [1.13608912],\n",
              "       [1.85119328],\n",
              "       [0.14207212],\n",
              "       [0.1742586 ],\n",
              "       [0.04043679],\n",
              "       [1.66523969],\n",
              "       [1.5563135 ],\n",
              "       [1.7400243 ],\n",
              "       [1.95723668],\n",
              "       [1.59831713],\n",
              "       [0.92295872],\n",
              "       [1.56105835],\n",
              "       [0.23654885],\n",
              "       [1.27984204],\n",
              "       [0.28670657],\n",
              "       [1.88933783],\n",
              "       [1.04369664],\n",
              "       [0.82932388],\n",
              "       [0.52911122],\n",
              "       [1.54846738],\n",
              "       [0.91230066],\n",
              "       [1.1368679 ],\n",
              "       [0.0375796 ],\n",
              "       [1.23527099],\n",
              "       [1.22419145],\n",
              "       [1.23386799],\n",
              "       [1.88749616],\n",
              "       [1.3636406 ],\n",
              "       [0.7190158 ],\n",
              "       [0.87406391],\n",
              "       [1.39526239],\n",
              "       [0.12045094],\n",
              "       [1.33353343],\n",
              "       [1.34127574],\n",
              "       [0.42076512],\n",
              "       [0.2578526 ],\n",
              "       [0.6308567 ],\n",
              "       [0.72742154],\n",
              "       [1.14039354],\n",
              "       [0.87720303],\n",
              "       [1.97674768],\n",
              "       [0.20408962],\n",
              "       [0.41775351],\n",
              "       [0.32261904],\n",
              "       [1.30621665],\n",
              "       [0.50658321],\n",
              "       [0.93262155],\n",
              "       [0.48885118],\n",
              "       [0.31793917],\n",
              "       [0.22075028],\n",
              "       [1.31265918],\n",
              "       [0.2763659 ],\n",
              "       [0.39316472],\n",
              "       [0.73745034],\n",
              "       [1.64198646],\n",
              "       [0.19420255],\n",
              "       [1.67588981],\n",
              "       [0.19219682],\n",
              "       [1.95291893],\n",
              "       [0.9373024 ],\n",
              "       [1.95352218],\n",
              "       [1.20969104],\n",
              "       [1.47852716],\n",
              "       [0.07837558],\n",
              "       [0.56561393],\n",
              "       [0.24039312],\n",
              "       [0.5922804 ],\n",
              "       [0.23745544],\n",
              "       [0.63596636],\n",
              "       [0.82852599],\n",
              "       [0.12829499],\n",
              "       [1.38494424],\n",
              "       [1.13320291],\n",
              "       [0.53077898],\n",
              "       [1.04649611],\n",
              "       [0.18788102],\n",
              "       [1.15189299],\n",
              "       [1.8585924 ],\n",
              "       [0.6371379 ],\n",
              "       [1.33482076],\n",
              "       [0.26359572],\n",
              "       [1.43265441],\n",
              "       [0.57881219],\n",
              "       [0.36638272],\n",
              "       [1.17302587],\n",
              "       [0.04021509],\n",
              "       [1.65788006],\n",
              "       [0.00939095]])"
            ]
          },
          "metadata": {},
          "execution_count": 22
        }
      ]
    },
    {
      "cell_type": "code",
      "source": [
        "y"
      ],
      "metadata": {
        "colab": {
          "base_uri": "https://localhost:8080/"
        },
        "id": "E4oxj80P0Ogh",
        "outputId": "7c29c8a0-6616-495a-cc91-b7689422781c"
      },
      "execution_count": 23,
      "outputs": [
        {
          "output_type": "execute_result",
          "data": {
            "text/plain": [
              "array([[2.53486969],\n",
              "       [5.35419688],\n",
              "       [4.39783657],\n",
              "       [2.14731805],\n",
              "       [4.69452857],\n",
              "       [6.02203581],\n",
              "       [4.43691913],\n",
              "       [5.19413934],\n",
              "       [4.71386473],\n",
              "       [4.11538956],\n",
              "       [4.4339302 ],\n",
              "       [4.83969458],\n",
              "       [3.98971335],\n",
              "       [6.54129059],\n",
              "       [2.50853076],\n",
              "       [2.8960148 ],\n",
              "       [2.05175438],\n",
              "       [6.8376218 ],\n",
              "       [4.89428145],\n",
              "       [5.65585594],\n",
              "       [7.7557751 ],\n",
              "       [3.52786689],\n",
              "       [2.07840013],\n",
              "       [5.74890665],\n",
              "       [1.09140313],\n",
              "       [6.04246106],\n",
              "       [1.91418792],\n",
              "       [4.92668175],\n",
              "       [5.51129001],\n",
              "       [4.65372772],\n",
              "       [4.53664953],\n",
              "       [5.65338765],\n",
              "       [2.46722123],\n",
              "       [5.69316716],\n",
              "       [1.77028234],\n",
              "       [4.8006746 ],\n",
              "       [4.92076576],\n",
              "       [3.84007301],\n",
              "       [6.2828964 ],\n",
              "       [5.21560511],\n",
              "       [3.35393319],\n",
              "       [2.15665697],\n",
              "       [4.66687914],\n",
              "       [3.45409105],\n",
              "       [3.52812128],\n",
              "       [4.0911515 ],\n",
              "       [2.07413321],\n",
              "       [4.1403603 ],\n",
              "       [3.50214155],\n",
              "       [3.39945443],\n",
              "       [3.02072618],\n",
              "       [3.80119479],\n",
              "       [5.2561807 ],\n",
              "       [2.25674647],\n",
              "       [1.86916643],\n",
              "       [3.05109385],\n",
              "       [4.73590844],\n",
              "       [2.42659772],\n",
              "       [3.76351973],\n",
              "       [1.51527742],\n",
              "       [0.87722423],\n",
              "       [2.68450733],\n",
              "       [4.34086973],\n",
              "       [2.9495864 ],\n",
              "       [4.85359875],\n",
              "       [3.95384633],\n",
              "       [4.077224  ],\n",
              "       [3.33007616],\n",
              "       [3.76428574],\n",
              "       [1.74908202],\n",
              "       [5.7916235 ],\n",
              "       [5.08991302],\n",
              "       [5.1168918 ],\n",
              "       [3.11492871],\n",
              "       [4.47309591],\n",
              "       [1.41796866],\n",
              "       [3.8522094 ],\n",
              "       [1.18935604],\n",
              "       [1.62020978],\n",
              "       [1.82782794],\n",
              "       [2.34016051],\n",
              "       [5.1012857 ],\n",
              "       [3.0859456 ],\n",
              "       [4.43153075],\n",
              "       [2.54984181],\n",
              "       [3.51600512],\n",
              "       [2.59385781],\n",
              "       [0.66075956],\n",
              "       [5.00335151],\n",
              "       [5.90271785],\n",
              "       [3.76096908],\n",
              "       [4.54442164],\n",
              "       [3.15516769],\n",
              "       [3.80787814],\n",
              "       [1.71208112],\n",
              "       [3.11509539],\n",
              "       [3.05761105],\n",
              "       [1.35147394],\n",
              "       [4.5766307 ],\n",
              "       [2.02691421]])"
            ]
          },
          "metadata": {},
          "execution_count": 23
        }
      ]
    },
    {
      "cell_type": "markdown",
      "source": [
        "### Polynomial Regression:"
      ],
      "metadata": {
        "id": "K7IvIVuE1SLn"
      }
    },
    {
      "cell_type": "code",
      "source": [
        "# Fit a polynomial regression model\n",
        "degree = 2  # degree of the polynomial\n",
        "poly_features = PolynomialFeatures(degree=degree, include_bias=False)\n",
        "X_poly = poly_features.fit_transform(X)\n",
        "\n",
        "lin_reg = LinearRegression()\n",
        "lin_reg.fit(X_poly, y)\n",
        "\n",
        "# Visualize the results\n",
        "X_new = np.linspace(0, 2, 100).reshape(100, 1)\n",
        "X_new_poly = poly_features.transform(X_new)\n",
        "y_new = lin_reg.predict(X_new_poly)\n",
        "\n",
        "# Get the coefficients and intercept\n",
        "coefficients = lin_reg.coef_\n",
        "intercept = lin_reg.intercept_\n",
        "\n",
        "\n",
        "# Printing the values of m and b\n",
        "print(f\"Slope (m): {coefficients}\")\n",
        "print(f\"Y-intercept (b): {intercept}\")\n",
        "\n",
        "plt.scatter(X, y, label='Original Data')\n",
        "plt.plot(X_new, y_new, 'r-', label='Polynomial Regression (degree={})'.format(degree))\n",
        "plt.xlabel('X')\n",
        "plt.ylabel('y')\n",
        "plt.legend()\n",
        "plt.show()"
      ],
      "metadata": {
        "colab": {
          "base_uri": "https://localhost:8080/",
          "height": 487
        },
        "id": "JlzgseeQ0QbR",
        "outputId": "276441dc-4416-4664-e0aa-50bcc9e64404"
      },
      "execution_count": 26,
      "outputs": [
        {
          "output_type": "stream",
          "name": "stdout",
          "text": [
            "Slope (m): [[1.84100842 0.04809407]]\n",
            "Y-intercept (b): [1.95139826]\n"
          ]
        },
        {
          "output_type": "display_data",
          "data": {
            "text/plain": [
              "<Figure size 640x480 with 1 Axes>"
            ],
            "image/png": "[encoded data removed]"
          },
          "metadata": {}
        }
      ]
    },
    {
      "cell_type": "code",
      "source": [],
      "metadata": {
        "id": "xnAZbgPG0SDx"
      },
      "execution_count": null,
      "outputs": []
    }
  ]
}